{
 "cells": [
  {
   "cell_type": "markdown",
   "id": "suitable-geneva",
   "metadata": {},
   "source": [
    "# Data examination\n",
    "\n",
    "Get an overview over the data, using text output and plots"
   ]
  },
  {
   "cell_type": "code",
   "execution_count": 4,
   "id": "educated-tonight",
   "metadata": {},
   "outputs": [],
   "source": [
    "import os\n",
    "import numpy as np\n",
    "import pandas as pd\n",
    "\n",
    "# Preserve plots in jupyter notebook\n",
    "%matplotlib inline  "
   ]
  },
  {
   "cell_type": "code",
   "execution_count": 6,
   "id": "express-water",
   "metadata": {},
   "outputs": [],
   "source": [
    "# Define path to the data\n",
    "file_path = os.path.join(os.path.expanduser(\"~\"), \n",
    "                         \"earth-analytics\", \n",
    "                         \"data\",\n",
    "                         \"colorado-flood\",\n",
    "                         \"precipitation\",\n",
    "                         \"805325-precip-daily-2003-2013.csv\")\n",
    "\n",
    "# Import the file as a pandas dataframe\n",
    "boulder_precip_2003_2013 = pd.read_csv(file_path)"
   ]
  },
  {
   "cell_type": "markdown",
   "id": "written-wildlife",
   "metadata": {},
   "source": [
    "## Text based overview"
   ]
  },
  {
   "cell_type": "code",
   "execution_count": 8,
   "id": "rapid-landscape",
   "metadata": {},
   "outputs": [
    {
     "name": "stdout",
     "output_type": "stream",
     "text": [
      "<class 'pandas.core.frame.DataFrame'>\n",
      "RangeIndex: 1840 entries, 0 to 1839\n",
      "Data columns (total 9 columns):\n",
      " #   Column            Non-Null Count  Dtype  \n",
      "---  ------            --------------  -----  \n",
      " 0   STATION           1840 non-null   object \n",
      " 1   STATION_NAME      1840 non-null   object \n",
      " 2   ELEVATION         1840 non-null   float64\n",
      " 3   LATITUDE          1840 non-null   float64\n",
      " 4   LONGITUDE         1840 non-null   float64\n",
      " 5   DATE              1840 non-null   object \n",
      " 6   HPCP              1840 non-null   float64\n",
      " 7   Measurement Flag  1840 non-null   object \n",
      " 8   Quality Flag      1840 non-null   object \n",
      "dtypes: float64(4), object(5)\n",
      "memory usage: 129.5+ KB\n"
     ]
    }
   ],
   "source": [
    "# Show dataframe info: column names, types, ...\n",
    "boulder_precip_2003_2013.info()"
   ]
  },
  {
   "cell_type": "code",
   "execution_count": 9,
   "id": "middle-dependence",
   "metadata": {},
   "outputs": [
    {
     "data": {
      "text/html": [
       "<div>\n",
       "<style scoped>\n",
       "    .dataframe tbody tr th:only-of-type {\n",
       "        vertical-align: middle;\n",
       "    }\n",
       "\n",
       "    .dataframe tbody tr th {\n",
       "        vertical-align: top;\n",
       "    }\n",
       "\n",
       "    .dataframe thead th {\n",
       "        text-align: right;\n",
       "    }\n",
       "</style>\n",
       "<table border=\"1\" class=\"dataframe\">\n",
       "  <thead>\n",
       "    <tr style=\"text-align: right;\">\n",
       "      <th></th>\n",
       "      <th>STATION</th>\n",
       "      <th>STATION_NAME</th>\n",
       "      <th>ELEVATION</th>\n",
       "      <th>LATITUDE</th>\n",
       "      <th>LONGITUDE</th>\n",
       "      <th>DATE</th>\n",
       "      <th>HPCP</th>\n",
       "      <th>Measurement Flag</th>\n",
       "      <th>Quality Flag</th>\n",
       "    </tr>\n",
       "  </thead>\n",
       "  <tbody>\n",
       "    <tr>\n",
       "      <th>0</th>\n",
       "      <td>COOP:050843</td>\n",
       "      <td>BOULDER 2 CO US</td>\n",
       "      <td>1650.5</td>\n",
       "      <td>40.03389</td>\n",
       "      <td>-105.28111</td>\n",
       "      <td>20030101 01:00</td>\n",
       "      <td>0.0</td>\n",
       "      <td>g</td>\n",
       "      <td></td>\n",
       "    </tr>\n",
       "    <tr>\n",
       "      <th>1</th>\n",
       "      <td>COOP:050843</td>\n",
       "      <td>BOULDER 2 CO US</td>\n",
       "      <td>1650.5</td>\n",
       "      <td>40.03389</td>\n",
       "      <td>-105.28111</td>\n",
       "      <td>20030201 01:00</td>\n",
       "      <td>0.0</td>\n",
       "      <td>g</td>\n",
       "      <td></td>\n",
       "    </tr>\n",
       "    <tr>\n",
       "      <th>2</th>\n",
       "      <td>COOP:050843</td>\n",
       "      <td>BOULDER 2 CO US</td>\n",
       "      <td>1650.5</td>\n",
       "      <td>40.03389</td>\n",
       "      <td>-105.28111</td>\n",
       "      <td>20030202 19:00</td>\n",
       "      <td>0.2</td>\n",
       "      <td></td>\n",
       "      <td></td>\n",
       "    </tr>\n",
       "    <tr>\n",
       "      <th>3</th>\n",
       "      <td>COOP:050843</td>\n",
       "      <td>BOULDER 2 CO US</td>\n",
       "      <td>1650.5</td>\n",
       "      <td>40.03389</td>\n",
       "      <td>-105.28111</td>\n",
       "      <td>20030202 22:00</td>\n",
       "      <td>0.1</td>\n",
       "      <td></td>\n",
       "      <td></td>\n",
       "    </tr>\n",
       "    <tr>\n",
       "      <th>4</th>\n",
       "      <td>COOP:050843</td>\n",
       "      <td>BOULDER 2 CO US</td>\n",
       "      <td>1650.5</td>\n",
       "      <td>40.03389</td>\n",
       "      <td>-105.28111</td>\n",
       "      <td>20030203 02:00</td>\n",
       "      <td>0.1</td>\n",
       "      <td></td>\n",
       "      <td></td>\n",
       "    </tr>\n",
       "  </tbody>\n",
       "</table>\n",
       "</div>"
      ],
      "text/plain": [
       "       STATION     STATION_NAME  ELEVATION  LATITUDE  LONGITUDE  \\\n",
       "0  COOP:050843  BOULDER 2 CO US     1650.5  40.03389 -105.28111   \n",
       "1  COOP:050843  BOULDER 2 CO US     1650.5  40.03389 -105.28111   \n",
       "2  COOP:050843  BOULDER 2 CO US     1650.5  40.03389 -105.28111   \n",
       "3  COOP:050843  BOULDER 2 CO US     1650.5  40.03389 -105.28111   \n",
       "4  COOP:050843  BOULDER 2 CO US     1650.5  40.03389 -105.28111   \n",
       "\n",
       "             DATE  HPCP Measurement Flag Quality Flag  \n",
       "0  20030101 01:00   0.0                g               \n",
       "1  20030201 01:00   0.0                g               \n",
       "2  20030202 19:00   0.2                                \n",
       "3  20030202 22:00   0.1                                \n",
       "4  20030203 02:00   0.1                                "
      ]
     },
     "execution_count": 9,
     "metadata": {},
     "output_type": "execute_result"
    }
   ],
   "source": [
    "# Show the first 4 rows of the data\n",
    "boulder_precip_2003_2013.head()"
   ]
  },
  {
   "cell_type": "code",
   "execution_count": 13,
   "id": "nominated-congress",
   "metadata": {},
   "outputs": [
    {
     "data": {
      "text/html": [
       "<div>\n",
       "<style scoped>\n",
       "    .dataframe tbody tr th:only-of-type {\n",
       "        vertical-align: middle;\n",
       "    }\n",
       "\n",
       "    .dataframe tbody tr th {\n",
       "        vertical-align: top;\n",
       "    }\n",
       "\n",
       "    .dataframe thead th {\n",
       "        text-align: right;\n",
       "    }\n",
       "</style>\n",
       "<table border=\"1\" class=\"dataframe\">\n",
       "  <thead>\n",
       "    <tr style=\"text-align: right;\">\n",
       "      <th></th>\n",
       "      <th>ELEVATION</th>\n",
       "      <th>LATITUDE</th>\n",
       "      <th>LONGITUDE</th>\n",
       "      <th>HPCP</th>\n",
       "    </tr>\n",
       "  </thead>\n",
       "  <tbody>\n",
       "    <tr>\n",
       "      <th>count</th>\n",
       "      <td>1840.0</td>\n",
       "      <td>1840.000000</td>\n",
       "      <td>1840.000000</td>\n",
       "      <td>1840.000000</td>\n",
       "    </tr>\n",
       "    <tr>\n",
       "      <th>mean</th>\n",
       "      <td>1650.5</td>\n",
       "      <td>40.033851</td>\n",
       "      <td>-105.281106</td>\n",
       "      <td>51.192587</td>\n",
       "    </tr>\n",
       "    <tr>\n",
       "      <th>std</th>\n",
       "      <td>0.0</td>\n",
       "      <td>0.000045</td>\n",
       "      <td>0.000005</td>\n",
       "      <td>220.208147</td>\n",
       "    </tr>\n",
       "    <tr>\n",
       "      <th>min</th>\n",
       "      <td>1650.5</td>\n",
       "      <td>40.033800</td>\n",
       "      <td>-105.281110</td>\n",
       "      <td>0.000000</td>\n",
       "    </tr>\n",
       "    <tr>\n",
       "      <th>25%</th>\n",
       "      <td>1650.5</td>\n",
       "      <td>40.033800</td>\n",
       "      <td>-105.281110</td>\n",
       "      <td>0.100000</td>\n",
       "    </tr>\n",
       "    <tr>\n",
       "      <th>50%</th>\n",
       "      <td>1650.5</td>\n",
       "      <td>40.033890</td>\n",
       "      <td>-105.281110</td>\n",
       "      <td>0.100000</td>\n",
       "    </tr>\n",
       "    <tr>\n",
       "      <th>75%</th>\n",
       "      <td>1650.5</td>\n",
       "      <td>40.033890</td>\n",
       "      <td>-105.281100</td>\n",
       "      <td>0.100000</td>\n",
       "    </tr>\n",
       "    <tr>\n",
       "      <th>max</th>\n",
       "      <td>1650.5</td>\n",
       "      <td>40.033890</td>\n",
       "      <td>-105.281100</td>\n",
       "      <td>999.990000</td>\n",
       "    </tr>\n",
       "  </tbody>\n",
       "</table>\n",
       "</div>"
      ],
      "text/plain": [
       "       ELEVATION     LATITUDE    LONGITUDE         HPCP\n",
       "count     1840.0  1840.000000  1840.000000  1840.000000\n",
       "mean      1650.5    40.033851  -105.281106    51.192587\n",
       "std          0.0     0.000045     0.000005   220.208147\n",
       "min       1650.5    40.033800  -105.281110     0.000000\n",
       "25%       1650.5    40.033800  -105.281110     0.100000\n",
       "50%       1650.5    40.033890  -105.281110     0.100000\n",
       "75%       1650.5    40.033890  -105.281100     0.100000\n",
       "max       1650.5    40.033890  -105.281100   999.990000"
      ]
     },
     "execution_count": 13,
     "metadata": {},
     "output_type": "execute_result"
    }
   ],
   "source": [
    "# Get statistical info for all numeric columns. \n",
    "boulder_precip_2003_2013.describe()"
   ]
  },
  {
   "cell_type": "code",
   "execution_count": 17,
   "id": "geographic-nancy",
   "metadata": {},
   "outputs": [
    {
     "data": {
      "text/plain": [
       "count     1840\n",
       "unique       3\n",
       "top           \n",
       "freq      1836\n",
       "Name: Quality Flag, dtype: object"
      ]
     },
     "execution_count": 17,
     "metadata": {},
     "output_type": "execute_result"
    }
   ],
   "source": [
    "# Describe for non-numeric columns\n",
    "boulder_precip_2003_2013[\"Quality Flag\"].describe()"
   ]
  },
  {
   "cell_type": "code",
   "execution_count": 49,
   "id": "laughing-acceptance",
   "metadata": {},
   "outputs": [
    {
     "data": {
      "text/html": [
       "<div>\n",
       "<style scoped>\n",
       "    .dataframe tbody tr th:only-of-type {\n",
       "        vertical-align: middle;\n",
       "    }\n",
       "\n",
       "    .dataframe tbody tr th {\n",
       "        vertical-align: top;\n",
       "    }\n",
       "\n",
       "    .dataframe thead th {\n",
       "        text-align: right;\n",
       "    }\n",
       "</style>\n",
       "<table border=\"1\" class=\"dataframe\">\n",
       "  <thead>\n",
       "    <tr style=\"text-align: right;\">\n",
       "      <th></th>\n",
       "      <th></th>\n",
       "      <th>count</th>\n",
       "      <th>mean</th>\n",
       "      <th>std</th>\n",
       "      <th>min</th>\n",
       "      <th>25%</th>\n",
       "      <th>50%</th>\n",
       "      <th>75%</th>\n",
       "      <th>max</th>\n",
       "    </tr>\n",
       "    <tr>\n",
       "      <th>Measurement Flag</th>\n",
       "      <th>Quality Flag</th>\n",
       "      <th></th>\n",
       "      <th></th>\n",
       "      <th></th>\n",
       "      <th></th>\n",
       "      <th></th>\n",
       "      <th></th>\n",
       "      <th></th>\n",
       "      <th></th>\n",
       "    </tr>\n",
       "  </thead>\n",
       "  <tbody>\n",
       "    <tr>\n",
       "      <th rowspan=\"3\" valign=\"top\"></th>\n",
       "      <th></th>\n",
       "      <td>1618.0</td>\n",
       "      <td>0.120334</td>\n",
       "      <td>9.103616e-02</td>\n",
       "      <td>0.10</td>\n",
       "      <td>0.10</td>\n",
       "      <td>0.10</td>\n",
       "      <td>0.10</td>\n",
       "      <td>2.20</td>\n",
       "    </tr>\n",
       "    <tr>\n",
       "      <th>Z</th>\n",
       "      <td>2.0</td>\n",
       "      <td>0.100000</td>\n",
       "      <td>0.000000e+00</td>\n",
       "      <td>0.10</td>\n",
       "      <td>0.10</td>\n",
       "      <td>0.10</td>\n",
       "      <td>0.10</td>\n",
       "      <td>0.10</td>\n",
       "    </tr>\n",
       "    <tr>\n",
       "      <th>q</th>\n",
       "      <td>2.0</td>\n",
       "      <td>0.200000</td>\n",
       "      <td>2.828427e-01</td>\n",
       "      <td>0.00</td>\n",
       "      <td>0.10</td>\n",
       "      <td>0.20</td>\n",
       "      <td>0.30</td>\n",
       "      <td>0.40</td>\n",
       "    </tr>\n",
       "    <tr>\n",
       "      <th>[</th>\n",
       "      <th></th>\n",
       "      <td>11.0</td>\n",
       "      <td>999.990000</td>\n",
       "      <td>1.192358e-13</td>\n",
       "      <td>999.99</td>\n",
       "      <td>999.99</td>\n",
       "      <td>999.99</td>\n",
       "      <td>999.99</td>\n",
       "      <td>999.99</td>\n",
       "    </tr>\n",
       "    <tr>\n",
       "      <th>]</th>\n",
       "      <th></th>\n",
       "      <td>11.0</td>\n",
       "      <td>999.990000</td>\n",
       "      <td>1.192358e-13</td>\n",
       "      <td>999.99</td>\n",
       "      <td>999.99</td>\n",
       "      <td>999.99</td>\n",
       "      <td>999.99</td>\n",
       "      <td>999.99</td>\n",
       "    </tr>\n",
       "    <tr>\n",
       "      <th>g</th>\n",
       "      <th></th>\n",
       "      <td>124.0</td>\n",
       "      <td>0.000000</td>\n",
       "      <td>0.000000e+00</td>\n",
       "      <td>0.00</td>\n",
       "      <td>0.00</td>\n",
       "      <td>0.00</td>\n",
       "      <td>0.00</td>\n",
       "      <td>0.00</td>\n",
       "    </tr>\n",
       "    <tr>\n",
       "      <th>{</th>\n",
       "      <th></th>\n",
       "      <td>36.0</td>\n",
       "      <td>999.990000</td>\n",
       "      <td>2.305990e-13</td>\n",
       "      <td>999.99</td>\n",
       "      <td>999.99</td>\n",
       "      <td>999.99</td>\n",
       "      <td>999.99</td>\n",
       "      <td>999.99</td>\n",
       "    </tr>\n",
       "    <tr>\n",
       "      <th>}</th>\n",
       "      <th></th>\n",
       "      <td>36.0</td>\n",
       "      <td>999.990000</td>\n",
       "      <td>2.305990e-13</td>\n",
       "      <td>999.99</td>\n",
       "      <td>999.99</td>\n",
       "      <td>999.99</td>\n",
       "      <td>999.99</td>\n",
       "      <td>999.99</td>\n",
       "    </tr>\n",
       "  </tbody>\n",
       "</table>\n",
       "</div>"
      ],
      "text/plain": [
       "                                count        mean           std     min  \\\n",
       "Measurement Flag Quality Flag                                             \n",
       "                               1618.0    0.120334  9.103616e-02    0.10   \n",
       "                 Z                2.0    0.100000  0.000000e+00    0.10   \n",
       "                 q                2.0    0.200000  2.828427e-01    0.00   \n",
       "[                                11.0  999.990000  1.192358e-13  999.99   \n",
       "]                                11.0  999.990000  1.192358e-13  999.99   \n",
       "g                               124.0    0.000000  0.000000e+00    0.00   \n",
       "{                                36.0  999.990000  2.305990e-13  999.99   \n",
       "}                                36.0  999.990000  2.305990e-13  999.99   \n",
       "\n",
       "                                  25%     50%     75%     max  \n",
       "Measurement Flag Quality Flag                                  \n",
       "                                 0.10    0.10    0.10    2.20  \n",
       "                 Z               0.10    0.10    0.10    0.10  \n",
       "                 q               0.10    0.20    0.30    0.40  \n",
       "[                              999.99  999.99  999.99  999.99  \n",
       "]                              999.99  999.99  999.99  999.99  \n",
       "g                                0.00    0.00    0.00    0.00  \n",
       "{                              999.99  999.99  999.99  999.99  \n",
       "}                              999.99  999.99  999.99  999.99  "
      ]
     },
     "execution_count": 49,
     "metadata": {},
     "output_type": "execute_result"
    }
   ],
   "source": [
    "# Group data by one or several columns\n",
    "boulder_precip_2003_2013.groupby([\"Measurement Flag\", \"Quality Flag\"])[\"HPCP\"].describe()"
   ]
  },
  {
   "cell_type": "markdown",
   "id": "pharmaceutical-sport",
   "metadata": {},
   "source": [
    "## Plot based overview\n",
    "... for the numeric columns"
   ]
  },
  {
   "cell_type": "code",
   "execution_count": 15,
   "id": "noted-wings",
   "metadata": {},
   "outputs": [
    {
     "data": {
      "text/plain": [
       "<AxesSubplot:>"
      ]
     },
     "execution_count": 15,
     "metadata": {},
     "output_type": "execute_result"
    },
    {
     "data": {
      "image/png": "[encoded data removed]",
      "text/plain": [
       "<Figure size 432x288 with 1 Axes>"
      ]
     },
     "metadata": {
      "needs_background": "light"
     },
     "output_type": "display_data"
    }
   ],
   "source": [
    "# Plot all numeric columns at once\n",
    "# x axis: row number\n",
    "# y axis: data values, one color per column\n",
    "boulder_precip_2003_2013.plot()"
   ]
  },
  {
   "cell_type": "code",
   "execution_count": 22,
   "id": "turned-columbus",
   "metadata": {},
   "outputs": [
    {
     "data": {
      "text/plain": [
       "<AxesSubplot:>"
      ]
     },
     "execution_count": 22,
     "metadata": {},
     "output_type": "execute_result"
    },
    {
     "data": {
      "image/png": "[encoded data removed]",
      "text/plain": [
       "<Figure size 432x288 with 1 Axes>"
      ]
     },
     "metadata": {
      "needs_background": "light"
     },
     "output_type": "display_data"
    }
   ],
   "source": [
    "# Plot values per row for one column - here for a subset of rows\n",
    "# x axis: row number\n",
    "# y axis: data values\n",
    "boulder_precip_2003_2013[\"HPCP\"].head().plot()"
   ]
  },
  {
   "cell_type": "code",
   "execution_count": 46,
   "id": "hidden-friendship",
   "metadata": {},
   "outputs": [
    {
     "data": {
      "text/plain": [
       "<AxesSubplot:ylabel='Frequency'>"
      ]
     },
     "execution_count": 46,
     "metadata": {},
     "output_type": "execute_result"
    },
    {
     "data": {
      "image/png": "[encoded data removed]",
      "text/plain": [
       "<Figure size 432x288 with 1 Axes>"
      ]
     },
     "metadata": {
      "needs_background": "light"
     },
     "output_type": "display_data"
    }
   ],
   "source": [
    "# Plot histogram for one column \n",
    "boulder_precip_2003_2013[\"HPCP\"].plot(kind='hist')"
   ]
  },
  {
   "cell_type": "code",
   "execution_count": 63,
   "id": "protective-rochester",
   "metadata": {},
   "outputs": [
    {
     "data": {
      "text/plain": [
       "array([[<AxesSubplot:title={'center':'HPCP'}>]], dtype=object)"
      ]
     },
     "execution_count": 63,
     "metadata": {},
     "output_type": "execute_result"
    },
    {
     "data": {
      "image/png": "[encoded data removed]",
      "text/plain": [
       "<Figure size 432x288 with 1 Axes>"
      ]
     },
     "metadata": {
      "needs_background": "light"
     },
     "output_type": "display_data"
    }
   ],
   "source": [
    "# Filter data\n",
    "precip_filtered = boulder_precip_2003_2013[boulder_precip_2003_2013[\"HPCP\"] < 10]\n",
    "\n",
    "# Plot histogram for one column (take 2)\n",
    "precip_filtered.hist(column='HPCP', bins=30)"
   ]
  },
  {
   "cell_type": "code",
   "execution_count": 68,
   "id": "described-crime",
   "metadata": {},
   "outputs": [
    {
     "data": {
      "text/plain": [
       "array([[<AxesSubplot:title={'center':'HPCP'}>]], dtype=object)"
      ]
     },
     "execution_count": 68,
     "metadata": {},
     "output_type": "execute_result"
    },
    {
     "data": {
      "image/png": "[encoded data removed]",
      "text/plain": [
       "<Figure size 432x288 with 1 Axes>"
      ]
     },
     "metadata": {
      "needs_background": "light"
     },
     "output_type": "display_data"
    }
   ],
   "source": [
    "# Plot histogram, custom binning, \n",
    "precip_filtered.hist(column='HPCP', bins=[.0, .1, .2, .3, .4, .5])"
   ]
  },
  {
   "cell_type": "code",
   "execution_count": 77,
   "id": "cardiovascular-alarm",
   "metadata": {},
   "outputs": [
    {
     "data": {
      "text/plain": [
       "array([[<AxesSubplot:title={'center':' '}>,\n",
       "        <AxesSubplot:title={'center':'Z'}>],\n",
       "       [<AxesSubplot:title={'center':'q'}>, <AxesSubplot:>]], dtype=object)"
      ]
     },
     "execution_count": 77,
     "metadata": {},
     "output_type": "execute_result"
    },
    {
     "data": {
      "image/png": "[encoded data removed]",
      "text/plain": [
       "<Figure size 432x288 with 4 Axes>"
      ]
     },
     "metadata": {
      "needs_background": "light"
     },
     "output_type": "display_data"
    }
   ],
   "source": [
    "# Plot histogram separated by values of another column \n",
    "boulder_precip_2003_2013.hist(column='HPCP', by='Quality Flag')"
   ]
  },
  {
   "cell_type": "code",
   "execution_count": null,
   "id": "virtual-action",
   "metadata": {},
   "outputs": [],
   "source": []
  }
 ],
 "metadata": {
  "kernelspec": {
   "display_name": "Python 3",
   "language": "python",
   "name": "python3"
  },
  "language_info": {
   "codemirror_mode": {
    "name": "ipython",
    "version": 3
   },
   "file_extension": ".py",
   "mimetype": "text/x-python",
   "name": "python",
   "nbconvert_exporter": "python",
   "pygments_lexer": "ipython3",
   "version": "3.8.6"
  }
 },
 "nbformat": 4,
 "nbformat_minor": 5
}
