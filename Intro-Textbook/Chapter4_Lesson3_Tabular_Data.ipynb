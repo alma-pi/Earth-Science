{
 "cells": [
  {
   "cell_type": "markdown",
   "id": "resident-internet",
   "metadata": {},
   "source": [
    "https://www.earthdatascience.org/courses/intro-to-earth-data-science/file-formats/use-text-files/use-tabular-data/\n",
    "\n",
    "\n",
    "# Lesson 3. Use Tabular Data for Earth Data Science\n",
    "\n",
    "### Earth and Environmental Data That Are Stored In Text File Format"
   ]
  },
  {
   "cell_type": "code",
   "execution_count": 1,
   "id": "designing-psychiatry",
   "metadata": {},
   "outputs": [],
   "source": [
    "# Import packages\n",
    "import os\n",
    "\n",
    "import matplotlib.pyplot as plt\n",
    "import pandas as pd\n"
   ]
  },
  {
   "cell_type": "code",
   "execution_count": 2,
   "id": "disabled-owner",
   "metadata": {},
   "outputs": [
    {
     "data": {
      "text/html": [
       "<div>\n",
       "<style scoped>\n",
       "    .dataframe tbody tr th:only-of-type {\n",
       "        vertical-align: middle;\n",
       "    }\n",
       "\n",
       "    .dataframe tbody tr th {\n",
       "        vertical-align: top;\n",
       "    }\n",
       "\n",
       "    .dataframe thead th {\n",
       "        text-align: right;\n",
       "    }\n",
       "</style>\n",
       "<table border=\"1\" class=\"dataframe\">\n",
       "  <thead>\n",
       "    <tr style=\"text-align: right;\">\n",
       "      <th></th>\n",
       "      <th>months</th>\n",
       "      <th>precip</th>\n",
       "      <th>seasons</th>\n",
       "    </tr>\n",
       "  </thead>\n",
       "  <tbody>\n",
       "    <tr>\n",
       "      <th>0</th>\n",
       "      <td>Jan</td>\n",
       "      <td>0.70</td>\n",
       "      <td>Winter</td>\n",
       "    </tr>\n",
       "    <tr>\n",
       "      <th>1</th>\n",
       "      <td>Feb</td>\n",
       "      <td>0.75</td>\n",
       "      <td>Winter</td>\n",
       "    </tr>\n",
       "    <tr>\n",
       "      <th>2</th>\n",
       "      <td>Mar</td>\n",
       "      <td>1.85</td>\n",
       "      <td>Spring</td>\n",
       "    </tr>\n",
       "    <tr>\n",
       "      <th>3</th>\n",
       "      <td>Apr</td>\n",
       "      <td>2.93</td>\n",
       "      <td>Spring</td>\n",
       "    </tr>\n",
       "    <tr>\n",
       "      <th>4</th>\n",
       "      <td>May</td>\n",
       "      <td>3.05</td>\n",
       "      <td>Spring</td>\n",
       "    </tr>\n",
       "    <tr>\n",
       "      <th>5</th>\n",
       "      <td>June</td>\n",
       "      <td>2.02</td>\n",
       "      <td>Summer</td>\n",
       "    </tr>\n",
       "    <tr>\n",
       "      <th>6</th>\n",
       "      <td>July</td>\n",
       "      <td>1.93</td>\n",
       "      <td>Summer</td>\n",
       "    </tr>\n",
       "    <tr>\n",
       "      <th>7</th>\n",
       "      <td>Aug</td>\n",
       "      <td>1.62</td>\n",
       "      <td>Summer</td>\n",
       "    </tr>\n",
       "    <tr>\n",
       "      <th>8</th>\n",
       "      <td>Sept</td>\n",
       "      <td>1.84</td>\n",
       "      <td>Fall</td>\n",
       "    </tr>\n",
       "    <tr>\n",
       "      <th>9</th>\n",
       "      <td>Oct</td>\n",
       "      <td>1.31</td>\n",
       "      <td>Fall</td>\n",
       "    </tr>\n",
       "    <tr>\n",
       "      <th>10</th>\n",
       "      <td>Nov</td>\n",
       "      <td>1.39</td>\n",
       "      <td>Fall</td>\n",
       "    </tr>\n",
       "    <tr>\n",
       "      <th>11</th>\n",
       "      <td>Dec</td>\n",
       "      <td>0.84</td>\n",
       "      <td>Winter</td>\n",
       "    </tr>\n",
       "  </tbody>\n",
       "</table>\n",
       "</div>"
      ],
      "text/plain": [
       "   months  precip seasons\n",
       "0     Jan    0.70  Winter\n",
       "1     Feb    0.75  Winter\n",
       "2     Mar    1.85  Spring\n",
       "3     Apr    2.93  Spring\n",
       "4     May    3.05  Spring\n",
       "5    June    2.02  Summer\n",
       "6    July    1.93  Summer\n",
       "7     Aug    1.62  Summer\n",
       "8    Sept    1.84    Fall\n",
       "9     Oct    1.31    Fall\n",
       "10    Nov    1.39    Fall\n",
       "11    Dec    0.84  Winter"
      ]
     },
     "execution_count": 2,
     "metadata": {},
     "output_type": "execute_result"
    }
   ],
   "source": [
    "# Open the .csv file using Pandas\n",
    "avg_monthly_precip = pd.read_csv(\"https://ndownloader.figshare.com/files/12710618\")\n",
    "\n",
    "# View the data\n",
    "avg_monthly_precip"
   ]
  },
  {
   "cell_type": "code",
   "execution_count": 3,
   "id": "collective-article",
   "metadata": {},
   "outputs": [
    {
     "name": "stdout",
     "output_type": "stream",
     "text": [
      "<class 'pandas.core.frame.DataFrame'>\n",
      "RangeIndex: 12 entries, 0 to 11\n",
      "Data columns (total 3 columns):\n",
      " #   Column   Non-Null Count  Dtype  \n",
      "---  ------   --------------  -----  \n",
      " 0   months   12 non-null     object \n",
      " 1   precip   12 non-null     float64\n",
      " 2   seasons  12 non-null     object \n",
      "dtypes: float64(1), object(2)\n",
      "memory usage: 416.0+ bytes\n"
     ]
    }
   ],
   "source": [
    "avg_monthly_precip.info()"
   ]
  },
  {
   "cell_type": "code",
   "execution_count": 4,
   "id": "separated-applicant",
   "metadata": {},
   "outputs": [
    {
     "data": {
      "image/png": "[encoded data removed]",
      "text/plain": [
       "<Figure size 432x288 with 1 Axes>"
      ]
     },
     "metadata": {
      "needs_background": "light"
     },
     "output_type": "display_data"
    }
   ],
   "source": [
    "# Plot the data as a line plot\n",
    "f, ax = plt.subplots()\n",
    "avg_monthly_precip.plot(x=\"months\",\n",
    "                        y=\"precip\",\n",
    "                        title=\"Precipitation (mm) for One Year\",\n",
    "                        ax=ax)\n",
    "ax.set(xlabel='Month',\n",
    "       ylabel='Precipitation (mm)')\n",
    "plt.show()\n"
   ]
  },
  {
   "cell_type": "markdown",
   "id": "romance-merchant",
   "metadata": {},
   "source": [
    "### Challenge 2\n",
    "Plot the same data as a bar plot"
   ]
  },
  {
   "cell_type": "code",
   "execution_count": 5,
   "id": "lonely-knight",
   "metadata": {},
   "outputs": [
    {
     "data": {
      "image/png": "[encoded data removed]",
      "text/plain": [
       "<Figure size 432x288 with 1 Axes>"
      ]
     },
     "metadata": {
      "needs_background": "light"
     },
     "output_type": "display_data"
    }
   ],
   "source": [
    "# Plot the data as a bar plot\n",
    "f, ax = plt.subplots()\n",
    "avg_monthly_precip.plot(x=\"months\",\n",
    "                        y=\"precip\",\n",
    "                        title=\"Precipitation (mm) for One Year\",\n",
    "                        ax=ax,\n",
    "                        kind=\"bar\",\n",
    "                        color=\"green\")\n",
    "ax.set(xlabel='Month',\n",
    "       ylabel='Precipitation (mm)')\n",
    "plt.show()\n"
   ]
  },
  {
   "cell_type": "markdown",
   "id": "covered-intake",
   "metadata": {},
   "source": [
    "### Cleaning Tabular Text Files\n",
    "\n",
    "Dataset: Temperature data for Miami, Florida  \n",
    "Source:  NOAA National Centers for Environmental information, Climate at a Glance: City Time Series\n",
    "\n",
    "Goal: Examine file, remove metadata, handle missing values"
   ]
  },
  {
   "cell_type": "code",
   "execution_count": 6,
   "id": "spread-sheet",
   "metadata": {},
   "outputs": [
    {
     "data": {
      "text/html": [
       "<div>\n",
       "<style scoped>\n",
       "    .dataframe tbody tr th:only-of-type {\n",
       "        vertical-align: middle;\n",
       "    }\n",
       "\n",
       "    .dataframe tbody tr th {\n",
       "        vertical-align: top;\n",
       "    }\n",
       "\n",
       "    .dataframe thead th {\n",
       "        text-align: right;\n",
       "    }\n",
       "</style>\n",
       "<table border=\"1\" class=\"dataframe\">\n",
       "  <thead>\n",
       "    <tr style=\"text-align: right;\">\n",
       "      <th></th>\n",
       "      <th>Miami</th>\n",
       "      <th>Florida</th>\n",
       "      <th>Maximum Temperature</th>\n",
       "      <th>January-December</th>\n",
       "    </tr>\n",
       "  </thead>\n",
       "  <tbody>\n",
       "    <tr>\n",
       "      <th>0</th>\n",
       "      <td>Units: Degrees Fahrenheit</td>\n",
       "      <td>NaN</td>\n",
       "      <td>NaN</td>\n",
       "      <td>NaN</td>\n",
       "    </tr>\n",
       "    <tr>\n",
       "      <th>1</th>\n",
       "      <td>Base Period: 1901-2000</td>\n",
       "      <td>NaN</td>\n",
       "      <td>NaN</td>\n",
       "      <td>NaN</td>\n",
       "    </tr>\n",
       "    <tr>\n",
       "      <th>2</th>\n",
       "      <td>Missing: -99</td>\n",
       "      <td>NaN</td>\n",
       "      <td>NaN</td>\n",
       "      <td>NaN</td>\n",
       "    </tr>\n",
       "    <tr>\n",
       "      <th>3</th>\n",
       "      <td>Date</td>\n",
       "      <td>Value</td>\n",
       "      <td>Anomaly</td>\n",
       "      <td>NaN</td>\n",
       "    </tr>\n",
       "    <tr>\n",
       "      <th>4</th>\n",
       "      <td>194812</td>\n",
       "      <td>83.7</td>\n",
       "      <td>1.0</td>\n",
       "      <td>NaN</td>\n",
       "    </tr>\n",
       "    <tr>\n",
       "      <th>...</th>\n",
       "      <td>...</td>\n",
       "      <td>...</td>\n",
       "      <td>...</td>\n",
       "      <td>...</td>\n",
       "    </tr>\n",
       "    <tr>\n",
       "      <th>72</th>\n",
       "      <td>201612</td>\n",
       "      <td>84.5</td>\n",
       "      <td>1.8</td>\n",
       "      <td>NaN</td>\n",
       "    </tr>\n",
       "    <tr>\n",
       "      <th>73</th>\n",
       "      <td>201712</td>\n",
       "      <td>85.0</td>\n",
       "      <td>2.3</td>\n",
       "      <td>NaN</td>\n",
       "    </tr>\n",
       "    <tr>\n",
       "      <th>74</th>\n",
       "      <td>201812</td>\n",
       "      <td>84.4</td>\n",
       "      <td>1.7</td>\n",
       "      <td>NaN</td>\n",
       "    </tr>\n",
       "    <tr>\n",
       "      <th>75</th>\n",
       "      <td>201912</td>\n",
       "      <td>85.9</td>\n",
       "      <td>3.2</td>\n",
       "      <td>NaN</td>\n",
       "    </tr>\n",
       "    <tr>\n",
       "      <th>76</th>\n",
       "      <td>202012</td>\n",
       "      <td>85.8</td>\n",
       "      <td>3.1</td>\n",
       "      <td>NaN</td>\n",
       "    </tr>\n",
       "  </tbody>\n",
       "</table>\n",
       "<p>77 rows × 4 columns</p>\n",
       "</div>"
      ],
      "text/plain": [
       "                        Miami  Florida  Maximum Temperature   January-December\n",
       "0   Units: Degrees Fahrenheit      NaN                  NaN                NaN\n",
       "1      Base Period: 1901-2000      NaN                  NaN                NaN\n",
       "2                Missing: -99      NaN                  NaN                NaN\n",
       "3                        Date    Value              Anomaly                NaN\n",
       "4                      194812     83.7                  1.0                NaN\n",
       "..                        ...      ...                  ...                ...\n",
       "72                     201612     84.5                  1.8                NaN\n",
       "73                     201712     85.0                  2.3                NaN\n",
       "74                     201812     84.4                  1.7                NaN\n",
       "75                     201912     85.9                  3.2                NaN\n",
       "76                     202012     85.8                  3.1                NaN\n",
       "\n",
       "[77 rows x 4 columns]"
      ]
     },
     "execution_count": 6,
     "metadata": {},
     "output_type": "execute_result"
    }
   ],
   "source": [
    "# Open temperature data for Miami, Florida\n",
    "miami_temp_url = \"https://www.ncdc.noaa.gov/cag/city/time-series/USW00012839-tmax-12-12-1895-2020.csv\"\n",
    "\n",
    "miami_temp = pd.read_csv(miami_temp_url)\n",
    "miami_temp\n"
   ]
  },
  {
   "cell_type": "code",
   "execution_count": 7,
   "id": "pointed-story",
   "metadata": {},
   "outputs": [
    {
     "name": "stdout",
     "output_type": "stream",
     "text": [
      "     Date  Value  Anomaly\n",
      "0  194812   83.7      1.0\n",
      "1  194912   83.1      0.4\n",
      "2  195012   82.3     -0.4\n",
      "3  195112   82.7      0.0\n",
      "4  195212   83.3      0.6\n",
      "\n",
      "Min date: 194812 \n",
      "Max date:  202012\n"
     ]
    }
   ],
   "source": [
    "# Open the Miami data skipping the metadata rows and setting no data values\n",
    "miami_temp = pd.read_csv(miami_temp_url,\n",
    "                         skiprows=4,\n",
    "                         na_values=-99)\n",
    "\n",
    "# View the first 5 rows of the data\n",
    "print(miami_temp.head())\n",
    "print(\"\\nMin date:\", miami_temp[\"Date\"].min(), \"\\nMax date: \", miami_temp[\"Date\"].max())\n"
   ]
  },
  {
   "cell_type": "markdown",
   "id": "scheduled-colleague",
   "metadata": {},
   "source": [
    "### Challenge 3\n",
    "\n",
    "Goal: Plot the data"
   ]
  },
  {
   "cell_type": "code",
   "execution_count": 8,
   "id": "japanese-assembly",
   "metadata": {},
   "outputs": [
    {
     "data": {
      "image/png": "[encoded data removed]",
      "text/plain": [
       "<Figure size 432x288 with 1 Axes>"
      ]
     },
     "metadata": {
      "needs_background": "light"
     },
     "output_type": "display_data"
    }
   ],
   "source": [
    "# Plot the data\n",
    "miami_temp.plot(x=\"Date\", \n",
    "                y=\"Value\",\n",
    "                title=\"Dec-Jan Max. Temperature in Miami (Florida), 1948-2020\",\n",
    "                xlabel=\"Date\",\n",
    "                ylabel=\"Temperatur [Degree Fahrenheit]\")\n",
    "\n",
    "plt.show()"
   ]
  },
  {
   "cell_type": "markdown",
   "id": "lonely-large",
   "metadata": {},
   "source": [
    "### Challenge 4\n",
    "\n",
    "Goal: Make the same plot for a different city\n",
    "\n",
    "Dataset: Temperature data for Seattle, Washington  \n",
    "Source: NOAA National Centers for Environmental information, Climate at a Glance: City Time Series"
   ]
  },
  {
   "cell_type": "code",
   "execution_count": 9,
   "id": "painted-nebraska",
   "metadata": {},
   "outputs": [
    {
     "name": "stdout",
     "output_type": "stream",
     "text": [
      "     Date  Value  Anomaly\n",
      "0  194805   88.5      3.2\n",
      "1  194905   88.4      3.1\n",
      "2  195005   87.8      2.5\n",
      "3  195105   87.4      2.1\n",
      "4  195205   86.1      0.8\n",
      "\n",
      "Min date: 194812 \n",
      "max date:  202012\n"
     ]
    }
   ],
   "source": [
    "# Get the data\n",
    "seattle_temp = pd.read_csv(\"https://www.ncdc.noaa.gov/cag/city/time-series/USW00013895-tmax-1-5-1895-2020.csv\",\n",
    "                           skiprows=4,\n",
    "                           na_values=-99)\n",
    "\n",
    "# First overview\n",
    "print(seattle_temp.head())\n",
    "print(\"\\nMin date:\", miami_temp[\"Date\"].min(), \"\\nmax date: \", miami_temp[\"Date\"].max())"
   ]
  },
  {
   "cell_type": "code",
   "execution_count": 10,
   "id": "alpine-transaction",
   "metadata": {},
   "outputs": [
    {
     "data": {
      "image/png": "[encoded data removed]",
      "text/plain": [
       "<Figure size 432x288 with 1 Axes>"
      ]
     },
     "metadata": {
      "needs_background": "light"
     },
     "output_type": "display_data"
    }
   ],
   "source": [
    "# Plot the data\n",
    "seattle_temp.plot(x=\"Date\", \n",
    "                y=\"Value\",\n",
    "                title=\"Dec-Jan Max. Temperature in Seattle (WA), 1948-2020\",\n",
    "                xlabel=\"Date\",\n",
    "                ylabel=\"Temperatur [Degree Fahrenheit]\")\n",
    "\n",
    "plt.show()"
   ]
  },
  {
   "cell_type": "markdown",
   "id": "minimal-pleasure",
   "metadata": {},
   "source": [
    "### Challenge 5\n",
    "\n",
    "Goal: Read data from another dataset and apply the same steps.\n",
    "\n",
    "Dataset: CO2 emissions for a field site in Barrow, Alaska\n",
    "Source: NOAA"
   ]
  },
  {
   "cell_type": "code",
   "execution_count": 11,
   "id": "adjusted-cleveland",
   "metadata": {},
   "outputs": [],
   "source": [
    "# Additional import\n",
    "import urllib.request\n",
    "\n",
    "# Download greenhouse gas CO2 data\n",
    "greenhouse_gas_url = \"ftp://aftp.cmdl.noaa.gov/data/trace_gases/co2/in-situ/surface/brw/co2_brw_surface-insitu_1_ccgg_MonthlyData.txt\"\n",
    "filename = \"co2-emissions-barrow.csv\"\n",
    "\n",
    "# Protect against downloading again\n",
    "if not os.path.isfile(os.path.join(\"data\", filename)):\n",
    "    urllib.request.urlretrieve(url=greenhouse_gas_url,\n",
    "                               filename=filename)\n"
   ]
  },
  {
   "cell_type": "code",
   "execution_count": 12,
   "id": "proof-condition",
   "metadata": {},
   "outputs": [
    {
     "data": {
      "text/html": [
       "<div>\n",
       "<style scoped>\n",
       "    .dataframe tbody tr th:only-of-type {\n",
       "        vertical-align: middle;\n",
       "    }\n",
       "\n",
       "    .dataframe tbody tr th {\n",
       "        vertical-align: top;\n",
       "    }\n",
       "\n",
       "    .dataframe thead th {\n",
       "        text-align: right;\n",
       "    }\n",
       "</style>\n",
       "<table border=\"1\" class=\"dataframe\">\n",
       "  <thead>\n",
       "    <tr style=\"text-align: right;\">\n",
       "      <th></th>\n",
       "      <th>site_code</th>\n",
       "      <th>year</th>\n",
       "      <th>month</th>\n",
       "      <th>day</th>\n",
       "      <th>hour</th>\n",
       "      <th>minute</th>\n",
       "      <th>second</th>\n",
       "      <th>time_decimal</th>\n",
       "      <th>value</th>\n",
       "      <th>value_std_dev</th>\n",
       "      <th>nvalue</th>\n",
       "      <th>latitude</th>\n",
       "      <th>longitude</th>\n",
       "      <th>altitude</th>\n",
       "      <th>elevation</th>\n",
       "      <th>intake_height</th>\n",
       "      <th>qcflag</th>\n",
       "    </tr>\n",
       "  </thead>\n",
       "  <tbody>\n",
       "    <tr>\n",
       "      <th>0</th>\n",
       "      <td>BRW</td>\n",
       "      <td>1973</td>\n",
       "      <td>1</td>\n",
       "      <td>1</td>\n",
       "      <td>0</td>\n",
       "      <td>0</td>\n",
       "      <td>0</td>\n",
       "      <td>1973.000000</td>\n",
       "      <td>NaN</td>\n",
       "      <td>-99.99</td>\n",
       "      <td>0</td>\n",
       "      <td>71.323</td>\n",
       "      <td>-156.611</td>\n",
       "      <td>27.0</td>\n",
       "      <td>11.0</td>\n",
       "      <td>16.0</td>\n",
       "      <td>*..</td>\n",
       "    </tr>\n",
       "    <tr>\n",
       "      <th>1</th>\n",
       "      <td>BRW</td>\n",
       "      <td>1973</td>\n",
       "      <td>2</td>\n",
       "      <td>1</td>\n",
       "      <td>0</td>\n",
       "      <td>0</td>\n",
       "      <td>0</td>\n",
       "      <td>1973.084932</td>\n",
       "      <td>NaN</td>\n",
       "      <td>-99.99</td>\n",
       "      <td>0</td>\n",
       "      <td>71.323</td>\n",
       "      <td>-156.611</td>\n",
       "      <td>27.0</td>\n",
       "      <td>11.0</td>\n",
       "      <td>16.0</td>\n",
       "      <td>*..</td>\n",
       "    </tr>\n",
       "    <tr>\n",
       "      <th>2</th>\n",
       "      <td>BRW</td>\n",
       "      <td>1973</td>\n",
       "      <td>3</td>\n",
       "      <td>1</td>\n",
       "      <td>0</td>\n",
       "      <td>0</td>\n",
       "      <td>0</td>\n",
       "      <td>1973.161644</td>\n",
       "      <td>NaN</td>\n",
       "      <td>-99.99</td>\n",
       "      <td>0</td>\n",
       "      <td>71.323</td>\n",
       "      <td>-156.611</td>\n",
       "      <td>27.0</td>\n",
       "      <td>11.0</td>\n",
       "      <td>16.0</td>\n",
       "      <td>*..</td>\n",
       "    </tr>\n",
       "    <tr>\n",
       "      <th>3</th>\n",
       "      <td>BRW</td>\n",
       "      <td>1973</td>\n",
       "      <td>4</td>\n",
       "      <td>1</td>\n",
       "      <td>0</td>\n",
       "      <td>0</td>\n",
       "      <td>0</td>\n",
       "      <td>1973.246575</td>\n",
       "      <td>NaN</td>\n",
       "      <td>-99.99</td>\n",
       "      <td>0</td>\n",
       "      <td>71.323</td>\n",
       "      <td>-156.611</td>\n",
       "      <td>27.0</td>\n",
       "      <td>11.0</td>\n",
       "      <td>16.0</td>\n",
       "      <td>*..</td>\n",
       "    </tr>\n",
       "    <tr>\n",
       "      <th>4</th>\n",
       "      <td>BRW</td>\n",
       "      <td>1973</td>\n",
       "      <td>5</td>\n",
       "      <td>1</td>\n",
       "      <td>0</td>\n",
       "      <td>0</td>\n",
       "      <td>0</td>\n",
       "      <td>1973.328767</td>\n",
       "      <td>NaN</td>\n",
       "      <td>-99.99</td>\n",
       "      <td>0</td>\n",
       "      <td>71.323</td>\n",
       "      <td>-156.611</td>\n",
       "      <td>27.0</td>\n",
       "      <td>11.0</td>\n",
       "      <td>16.0</td>\n",
       "      <td>*..</td>\n",
       "    </tr>\n",
       "  </tbody>\n",
       "</table>\n",
       "</div>"
      ],
      "text/plain": [
       "  site_code  year  month  day  hour  minute  second  time_decimal  value  \\\n",
       "0       BRW  1973      1    1     0       0       0   1973.000000    NaN   \n",
       "1       BRW  1973      2    1     0       0       0   1973.084932    NaN   \n",
       "2       BRW  1973      3    1     0       0       0   1973.161644    NaN   \n",
       "3       BRW  1973      4    1     0       0       0   1973.246575    NaN   \n",
       "4       BRW  1973      5    1     0       0       0   1973.328767    NaN   \n",
       "\n",
       "   value_std_dev  nvalue  latitude  longitude  altitude  elevation  \\\n",
       "0         -99.99       0    71.323   -156.611      27.0       11.0   \n",
       "1         -99.99       0    71.323   -156.611      27.0       11.0   \n",
       "2         -99.99       0    71.323   -156.611      27.0       11.0   \n",
       "3         -99.99       0    71.323   -156.611      27.0       11.0   \n",
       "4         -99.99       0    71.323   -156.611      27.0       11.0   \n",
       "\n",
       "   intake_height qcflag  \n",
       "0           16.0    *..  \n",
       "1           16.0    *..  \n",
       "2           16.0    *..  \n",
       "3           16.0    *..  \n",
       "4           16.0    *..  "
      ]
     },
     "execution_count": 12,
     "metadata": {},
     "output_type": "execute_result"
    }
   ],
   "source": [
    "# Read file\n",
    "co2_emissions = pd.read_csv(\"./data/co2-emissions-barrow.csv\",\n",
    "                            skiprows=148,\n",
    "                            delimiter=\" \",\n",
    "                            na_values={\"time_decimal\" : -999.99, \n",
    "                                       \"value\" : -999.99}\n",
    "                           )\n",
    "# Examine data\n",
    "co2_emissions.head()"
   ]
  },
  {
   "cell_type": "code",
   "execution_count": 13,
   "id": "affecting-rough",
   "metadata": {},
   "outputs": [
    {
     "data": {
      "image/png": "[encoded data removed]",
      "text/plain": [
       "<Figure size 432x288 with 1 Axes>"
      ]
     },
     "metadata": {
      "needs_background": "light"
     },
     "output_type": "display_data"
    }
   ],
   "source": [
    "# Plot data\n",
    "co2_emissions.plot(x=\"time_decimal\", \n",
    "                   y=\"value\",\n",
    "                   title=\"Co2 emissions:\\nmeasured mole fraction of trace gas in dry air\\nat Barrow Atmospheric Baseline Observatory\",\n",
    "                   xlabel=\"Date\",\n",
    "                   ylabel=\"Co2 [ppm]\")\n",
    "\n",
    "plt.show()"
   ]
  },
  {
   "cell_type": "code",
   "execution_count": null,
   "id": "affected-workplace",
   "metadata": {},
   "outputs": [],
   "source": []
  }
 ],
 "metadata": {
  "kernelspec": {
   "display_name": "Python 3",
   "language": "python",
   "name": "python3"
  },
  "language_info": {
   "codemirror_mode": {
    "name": "ipython",
    "version": 3
   },
   "file_extension": ".py",
   "mimetype": "text/x-python",
   "name": "python",
   "nbconvert_exporter": "python",
   "pygments_lexer": "ipython3",
   "version": "3.8.6"
  }
 },
 "nbformat": 4,
 "nbformat_minor": 5
}
